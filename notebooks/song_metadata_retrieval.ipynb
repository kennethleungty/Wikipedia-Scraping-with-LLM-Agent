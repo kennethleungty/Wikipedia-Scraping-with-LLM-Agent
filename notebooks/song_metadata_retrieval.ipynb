{
 "cells": [
  {
   "cell_type": "markdown",
   "id": "d087430f-5fa8-4793-aca7-42b2cf44d369",
   "metadata": {},
   "source": [
    "## Song Info Retrieval\n",
    "#### Author: Kenneth Leung\n",
    "- Using LLM agents to retrieve song information"
   ]
  },
  {
   "cell_type": "code",
   "execution_count": 1,
   "id": "35ef82aa-d137-4066-a5ac-cc678e063a7a",
   "metadata": {},
   "outputs": [],
   "source": [
    "import csv\n",
    "import json\n",
    "import os\n",
    "\n",
    "import box\n",
    "import pandas as pd\n",
    "import yaml\n",
    "from dotenv import load_dotenv\n",
    "from langchain.agents import (AgentExecutor, AgentType, OpenAIFunctionsAgent,\n",
    "                              Tool, initialize_agent)\n",
    "from langchain.agents.format_scratchpad import \\\n",
    "    format_to_openai_function_messages\n",
    "from langchain.agents.output_parsers import OpenAIFunctionsAgentOutputParser\n",
    "from langchain.callbacks import get_openai_callback\n",
    "from langchain.chat_models import ChatOpenAI\n",
    "from langchain.output_parsers.openai_functions import JsonOutputFunctionsParser\n",
    "from langchain.prompts import (ChatPromptTemplate, MessagesPlaceholder,\n",
    "                               PromptTemplate)\n",
    "from langchain.tools.render import format_tool_to_openai_function\n",
    "from langchain_community.tools.ddg_search.tool import DuckDuckGoSearchRun\n",
    "from langchain_community.utilities.wikipedia import WikipediaAPIWrapper"
   ]
  },
  {
   "cell_type": "code",
   "execution_count": null,
   "id": "41b38145-cd49-4cc2-8f0b-29e35eea3780",
   "metadata": {},
   "outputs": [],
   "source": [
    "os.chdir('..')\n",
    "\n",
    "with open('config/config.yaml', 'r', encoding='utf8') as ymlfile:\n",
    "    cfg = box.Box(yaml.safe_load(ymlfile))\n",
    "load_dotenv(dotenv_path=cfg.ENVDIR, verbose=False)"
   ]
  },
  {
   "cell_type": "code",
   "execution_count": null,
   "id": "68bc1c9e-166e-4f4c-81b1-78fa23566b75",
   "metadata": {},
   "outputs": [],
   "source": [
    "df = pd.read_csv('data/input/chart2000-song-2010-decade-0-3-0070.csv')\n",
    "df.head()"
   ]
  },
  {
   "cell_type": "markdown",
   "id": "b136ff94-34b7-463c-ae46-555f3784e9b3",
   "metadata": {},
   "source": [
    "___"
   ]
  },
  {
   "cell_type": "code",
   "execution_count": 5,
   "id": "654fd281-1e1b-4c76-8162-81fb617e2316",
   "metadata": {},
   "outputs": [],
   "source": [
    "llm = ChatOpenAI(model=\"gpt-3.5-turbo-1106\", \n",
    "                 temperature=0,\n",
    "                 model_kwargs={\"seed\": 0}\n",
    "                 )"
   ]
  },
  {
   "cell_type": "code",
   "execution_count": 6,
   "id": "8de5db6e-e2ee-4a75-ad03-3f3acf11e17a",
   "metadata": {},
   "outputs": [],
   "source": [
    "wikipedia = WikipediaAPIWrapper()\n",
    "wikipedia_tool = Tool(\n",
    "    name='wikipedia',\n",
    "    func= wikipedia.run,\n",
    "    description=\"Useful for when you need to look up the songwriters, genre, and producers for a song on wikipedia\"\n",
    ")"
   ]
  },
  {
   "cell_type": "code",
   "execution_count": 7,
   "id": "f7c53f54-e7b8-4fa1-ab2a-4926f89157f6",
   "metadata": {},
   "outputs": [],
   "source": [
    "tools = [wikipedia_tool]\n",
    "llm_with_tools = llm.bind(functions=[format_tool_to_openai_function(t) for t in tools])"
   ]
  },
  {
   "cell_type": "code",
   "execution_count": 8,
   "id": "0b4d81e2-86aa-4aff-9f78-1656ae234ee6",
   "metadata": {},
   "outputs": [],
   "source": [
    "system_prompt = \"\"\"\n",
    "You are a helpful assistant and an expert in all things related to music and songs.\n",
    "The output must be in a JSON format enclosed in curly brackets, and does not contain any additional details or explanation.\n",
    "\n",
    "Example:\n",
    "'genre': 'Disco, Pop',\n",
    "'label': 'Sony Music',\n",
    "'language': 'Korean'\n",
    "'producers': 'Alex Boh, Betty, Germaine',\n",
    "'songwriters': 'John Johnson, Adam Smith'\n",
    "\"\"\""
   ]
  },
  {
   "cell_type": "code",
   "execution_count": 9,
   "id": "c0c85cfe-acf6-463f-a223-db97a8a3e326",
   "metadata": {},
   "outputs": [],
   "source": [
    "prompt = ChatPromptTemplate.from_messages(\n",
    "    [\n",
    "        (\"system\", system_prompt),\n",
    "        (\"user\", \"{input}\"),\n",
    "        MessagesPlaceholder(variable_name=\"agent_scratchpad\"),\n",
    "    ])"
   ]
  },
  {
   "cell_type": "code",
   "execution_count": 10,
   "id": "c30f4e00-607f-4240-984f-395ef0b72343",
   "metadata": {},
   "outputs": [],
   "source": [
    "agent = ({\n",
    "        \"input\": lambda x: x[\"input\"],\n",
    "        \"agent_scratchpad\": lambda x: format_to_openai_function_messages(\n",
    "                                    x[\"intermediate_steps\"]\n",
    "        ),}\n",
    "        | prompt\n",
    "        | llm_with_tools\n",
    "        | OpenAIFunctionsAgentOutputParser()\n",
    "    )\n",
    "\n",
    "agent_executor = AgentExecutor(agent=agent, \n",
    "                               tools=tools, \n",
    "                               verbose=False)"
   ]
  },
  {
   "cell_type": "code",
   "execution_count": 11,
   "id": "bd76c05d-beeb-4c9a-bfef-5fe4aa783c08",
   "metadata": {},
   "outputs": [],
   "source": [
    "def generate_input_prompt(song, artist):\n",
    "    input_prompt = f\"\"\"\n",
    "    This is the song to review:\n",
    "    - Song title: {song}, performed by {artist}\n",
    "\n",
    "    Based on the above song information, accurately answer the following questions in order:\n",
    "    - What is the genre of the song?\n",
    "    - What is the name of the record label company?\n",
    "    - What is the main language of the song?\n",
    "    - Who are the producers of the song?\n",
    "    - Who are the songwriters of the song?\n",
    "\n",
    "    If you do not know the answer to any of these questions, return the answer as 'Unknown'. Do not make up any answers.\n",
    "\n",
    "    Output the above answer strictly in JSON format enclosed with curly brackets. Do not include anything like ```json in the output.\n",
    "    \"\"\"\n",
    "    \n",
    "    return input_prompt"
   ]
  },
  {
   "cell_type": "code",
   "execution_count": null,
   "id": "0da632cc-b76e-4f5a-9e07-7223788f1121",
   "metadata": {},
   "outputs": [],
   "source": [
    "output_file = 'data/output/songs_metadata.csv'\n",
    "\n",
    "for _, row in df.iterrows():\n",
    "    song, artist = row[\"song\"], row[\"artist\"]\n",
    "    if os.path.exists(output_file):\n",
    "        df_song_info = pd.read_csv(output_file, encoding=\"utf-8\")\n",
    "    else:\n",
    "        df_song_info = pd.DataFrame(\n",
    "            columns=[\n",
    "                \"artist\",\n",
    "                \"song\",\n",
    "                \"genre\",\n",
    "                \"label\",\n",
    "                \"language\",\n",
    "                \"llm_cost\",\n",
    "                \"llm_tokens\",\n",
    "                \"producers\",\n",
    "                \"songwriters\",\n",
    "            ]\n",
    "        )\n",
    "        df_song_info.to_csv(output_file, index=False)\n",
    "\n",
    "    if song not in df_song_info[\"song\"].tolist():\n",
    "        print(f\"***** Processing: {song} by {artist} *****\")\n",
    "        input_prompt = generate_input_prompt(song, artist)\n",
    "        with get_openai_callback() as cb:\n",
    "            response = agent_executor.invoke({\"input\": input_prompt})\n",
    "            cost = cb.total_cost\n",
    "            tokens = cb.total_tokens\n",
    "            output = response[\"output\"]\n",
    "            print(output)\n",
    "            output_dict = json.loads(output)\n",
    "\n",
    "            new_row = {\n",
    "                \"artist\": artist,\n",
    "                \"song\": song,\n",
    "                \"genre\": output_dict.get(\"genre\"),\n",
    "                \"label\": output_dict.get(\"label\"),\n",
    "                \"language\": output_dict.get(\"language\"),\n",
    "                \"llm_cost\": cost,\n",
    "                \"llm_tokens\": tokens,\n",
    "                \"producers\": output_dict.get(\"producers\"),\n",
    "                \"songwriters\": output_dict.get(\"songwriters\"),\n",
    "            }\n",
    "\n",
    "            with open(output_file, \"a\", newline=\"\", encoding=\"utf-8\") as file:\n",
    "                writer = csv.writer(file)\n",
    "                writer.writerow(new_row.values())\n"
   ]
  },
  {
   "cell_type": "code",
   "execution_count": null,
   "id": "c3abe3fe-6a73-4e3d-aaf3-c375cb61b5c4",
   "metadata": {},
   "outputs": [],
   "source": []
  }
 ],
 "metadata": {
  "kernelspec": {
   "display_name": "wikipedia_scraping_venv",
   "language": "python",
   "name": "venv"
  },
  "language_info": {
   "codemirror_mode": {
    "name": "ipython",
    "version": 3
   },
   "file_extension": ".py",
   "mimetype": "text/x-python",
   "name": "python",
   "nbconvert_exporter": "python",
   "pygments_lexer": "ipython3",
   "version": "3.11.5"
  }
 },
 "nbformat": 4,
 "nbformat_minor": 5
}
