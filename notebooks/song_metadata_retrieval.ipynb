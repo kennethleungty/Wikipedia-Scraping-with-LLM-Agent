{
 "cells": [
  {
   "cell_type": "markdown",
   "id": "d087430f-5fa8-4793-aca7-42b2cf44d369",
   "metadata": {},
   "source": [
    "## Song Info Retrieval\n",
    "#### Author: Kenneth Leung\n",
    "- Using LLM agents to retrieve song information"
   ]
  },
  {
   "cell_type": "code",
   "execution_count": 1,
   "id": "35ef82aa-d137-4066-a5ac-cc678e063a7a",
   "metadata": {},
   "outputs": [],
   "source": [
    "import csv\n",
    "import os\n",
    "\n",
    "import box\n",
    "import pandas as pd\n",
    "import yaml\n",
    "from dotenv import load_dotenv\n",
    "from langchain.agents import (AgentExecutor, AgentType, OpenAIFunctionsAgent,\n",
    "                              Tool, initialize_agent)\n",
    "from langchain.agents.format_scratchpad import \\\n",
    "    format_to_openai_function_messages\n",
    "from langchain.agents.output_parsers import OpenAIFunctionsAgentOutputParser\n",
    "from langchain.callbacks import get_openai_callback\n",
    "from langchain.chat_models import ChatOpenAI\n",
    "from langchain.output_parsers.openai_functions import JsonOutputFunctionsParser\n",
    "from langchain.prompts import (ChatPromptTemplate, MessagesPlaceholder,\n",
    "                               PromptTemplate)\n",
    "from langchain.tools.render import format_tool_to_openai_function\n",
    "from langchain_community.tools.ddg_search.tool import DuckDuckGoSearchRun\n",
    "from langchain_community.utilities.wikipedia import WikipediaAPIWrapper"
   ]
  },
  {
   "cell_type": "code",
   "execution_count": 2,
   "id": "d7965018-1fd8-4de2-a6af-cfed0acc676f",
   "metadata": {},
   "outputs": [
    {
     "data": {
      "text/plain": [
       "True"
      ]
     },
     "execution_count": 2,
     "metadata": {},
     "output_type": "execute_result"
    }
   ],
   "source": [
    "os.chdir('..')\n",
    "\n",
    "with open('config/config.yaml', 'r', encoding='utf8') as ymlfile:\n",
    "    cfg = box.Box(yaml.safe_load(ymlfile))\n",
    "load_dotenv(dotenv_path=cfg.ENVDIR, verbose=True)"
   ]
  },
  {
   "cell_type": "code",
   "execution_count": 3,
   "id": "93b871ca-9b7c-465c-87c5-2d3b1f9e8b75",
   "metadata": {},
   "outputs": [
    {
     "data": {
      "text/html": [
       "<div>\n",
       "<style scoped>\n",
       "    .dataframe tbody tr th:only-of-type {\n",
       "        vertical-align: middle;\n",
       "    }\n",
       "\n",
       "    .dataframe tbody tr th {\n",
       "        vertical-align: top;\n",
       "    }\n",
       "\n",
       "    .dataframe thead th {\n",
       "        text-align: right;\n",
       "    }\n",
       "</style>\n",
       "<table border=\"1\" class=\"dataframe\">\n",
       "  <thead>\n",
       "    <tr style=\"text-align: right;\">\n",
       "      <th></th>\n",
       "      <th>decade</th>\n",
       "      <th>position</th>\n",
       "      <th>artist</th>\n",
       "      <th>song</th>\n",
       "      <th>indicativerevenue</th>\n",
       "      <th>us</th>\n",
       "      <th>uk</th>\n",
       "      <th>de</th>\n",
       "      <th>fr</th>\n",
       "      <th>ca</th>\n",
       "      <th>au</th>\n",
       "    </tr>\n",
       "  </thead>\n",
       "  <tbody>\n",
       "    <tr>\n",
       "      <th>0</th>\n",
       "      <td>2010s</td>\n",
       "      <td>1</td>\n",
       "      <td>Ed Sheeran</td>\n",
       "      <td>Shape Of You</td>\n",
       "      <td>33410.177486</td>\n",
       "      <td>1</td>\n",
       "      <td>1</td>\n",
       "      <td>1</td>\n",
       "      <td>1</td>\n",
       "      <td>1</td>\n",
       "      <td>1</td>\n",
       "    </tr>\n",
       "    <tr>\n",
       "      <th>1</th>\n",
       "      <td>2010s</td>\n",
       "      <td>2</td>\n",
       "      <td>Luis Fonsi &amp; Daddy Yankee</td>\n",
       "      <td>Despacito</td>\n",
       "      <td>27489.887061</td>\n",
       "      <td>1</td>\n",
       "      <td>1</td>\n",
       "      <td>1</td>\n",
       "      <td>1</td>\n",
       "      <td>1</td>\n",
       "      <td>1</td>\n",
       "    </tr>\n",
       "    <tr>\n",
       "      <th>2</th>\n",
       "      <td>2010s</td>\n",
       "      <td>3</td>\n",
       "      <td>Ed Sheeran</td>\n",
       "      <td>Perfect</td>\n",
       "      <td>25964.691240</td>\n",
       "      <td>1</td>\n",
       "      <td>1</td>\n",
       "      <td>1</td>\n",
       "      <td>1</td>\n",
       "      <td>1</td>\n",
       "      <td>1</td>\n",
       "    </tr>\n",
       "    <tr>\n",
       "      <th>3</th>\n",
       "      <td>2010s</td>\n",
       "      <td>4</td>\n",
       "      <td>Mark Ronson &amp; Bruno Mars</td>\n",
       "      <td>Uptown Funk</td>\n",
       "      <td>24203.410576</td>\n",
       "      <td>1</td>\n",
       "      <td>1</td>\n",
       "      <td>3</td>\n",
       "      <td>1</td>\n",
       "      <td>1</td>\n",
       "      <td>1</td>\n",
       "    </tr>\n",
       "    <tr>\n",
       "      <th>4</th>\n",
       "      <td>2010s</td>\n",
       "      <td>5</td>\n",
       "      <td>Pharrell Williams</td>\n",
       "      <td>Happy</td>\n",
       "      <td>23873.104765</td>\n",
       "      <td>1</td>\n",
       "      <td>1</td>\n",
       "      <td>1</td>\n",
       "      <td>1</td>\n",
       "      <td>1</td>\n",
       "      <td>1</td>\n",
       "    </tr>\n",
       "  </tbody>\n",
       "</table>\n",
       "</div>"
      ],
      "text/plain": [
       "  decade  position                     artist          song  \\\n",
       "0  2010s         1                 Ed Sheeran  Shape Of You   \n",
       "1  2010s         2  Luis Fonsi & Daddy Yankee     Despacito   \n",
       "2  2010s         3                 Ed Sheeran       Perfect   \n",
       "3  2010s         4   Mark Ronson & Bruno Mars   Uptown Funk   \n",
       "4  2010s         5          Pharrell Williams         Happy   \n",
       "\n",
       "   indicativerevenue  us  uk de fr  ca au  \n",
       "0       33410.177486   1   1  1  1   1  1  \n",
       "1       27489.887061   1   1  1  1   1  1  \n",
       "2       25964.691240   1   1  1  1   1  1  \n",
       "3       24203.410576   1   1  3  1   1  1  \n",
       "4       23873.104765   1   1  1  1   1  1  "
      ]
     },
     "execution_count": 3,
     "metadata": {},
     "output_type": "execute_result"
    }
   ],
   "source": [
    "df = pd.read_csv('data/input/chart2000-song-2010-decade-0-3-0070.csv')\n",
    "df.head()"
   ]
  },
  {
   "cell_type": "code",
   "execution_count": 4,
   "id": "9b6d95cb-3c58-40d6-ae85-2a7a05fb0f59",
   "metadata": {},
   "outputs": [
    {
     "data": {
      "text/plain": [
       "200"
      ]
     },
     "execution_count": 4,
     "metadata": {},
     "output_type": "execute_result"
    }
   ],
   "source": [
    "len(df)"
   ]
  },
  {
   "cell_type": "markdown",
   "id": "b136ff94-34b7-463c-ae46-555f3784e9b3",
   "metadata": {},
   "source": [
    "___"
   ]
  },
  {
   "cell_type": "code",
   "execution_count": 5,
   "id": "654fd281-1e1b-4c76-8162-81fb617e2316",
   "metadata": {},
   "outputs": [],
   "source": [
    "llm = ChatOpenAI(model=\"gpt-3.5-turbo-1106\", \n",
    "                 temperature=0,\n",
    "                 model_kwargs={\"seed\": 0}\n",
    "                 )"
   ]
  },
  {
   "cell_type": "code",
   "execution_count": 7,
   "id": "f7906581-3366-4855-ace9-9262049bec88",
   "metadata": {},
   "outputs": [],
   "source": [
    "# functions = [\n",
    "#     {\n",
    "#     \"name\": \"get_song_info\",\n",
    "#     \"description\": \"Retrieves a set of details about a song by a music artiste\",\n",
    "#     \"parameters\": {\n",
    "#         \"type\": \"object\",\n",
    "#         \"properties\": {\n",
    "#             \"lyricist\": {\n",
    "#                 \"type\": \"string\",\n",
    "#                 \"description\": \"Name of the person (or persons) who wrote the lyrics of the song\",\n",
    "#             },\n",
    "#             \"songwriter\": {\n",
    "#                 \"type\": \"string\",\n",
    "#                 \"description\": \"Name of the person (or persons) who composed the song (aka songwriter)\",\n",
    "#             },\n",
    "#             \"producer\": {\n",
    "#                 \"type\": \"string\",\n",
    "#                 \"description\": \"Name of the person (or persons) who produced the song (aka producer)\",\n",
    "#             },\n",
    "#             \"production_company\": {\n",
    "#                 \"type\": \"string\",\n",
    "#                 \"description\": \"Name of the company which produced the song\",\n",
    "#             },\n",
    "#             \"genre\": {\n",
    "#                 \"type\": \"string\",\n",
    "#                 \"description\": \"Genre of the song\",\n",
    "#             },\n",
    "#             \"language\": {\n",
    "#                 \"type\": \"string\",\n",
    "#                 \"description\": \"Main language of the song\",\n",
    "#             },\n",
    "#         },\n",
    "#         \"required\": [\"lyricist\", \"songwriter\", \"producer\", \"production_company\", \"genre\", \"language\"],\n",
    "#         },\n",
    "#     },     \n",
    "# ]"
   ]
  },
  {
   "cell_type": "code",
   "execution_count": 6,
   "id": "8de5db6e-e2ee-4a75-ad03-3f3acf11e17a",
   "metadata": {},
   "outputs": [],
   "source": [
    "wikipedia = WikipediaAPIWrapper()\n",
    "wikipedia_tool = Tool(\n",
    "    name='wikipedia',\n",
    "    func= wikipedia.run,\n",
    "    description=\"Useful for when you need to look up the songwriters, genre, and producers for a song on wikipedia\"\n",
    ")\n",
    "\n",
    "# search = DuckDuckGoSearchRun()\n",
    "# duckduckgo_tool = Tool(\n",
    "#     name='DuckDuckGo_Search',\n",
    "#     func= search.run,\n",
    "#     description=\"Useful for when you need to do a search on the internet to find information that the other tools can't find.\"\n",
    "# )"
   ]
  },
  {
   "cell_type": "code",
   "execution_count": 7,
   "id": "f7c53f54-e7b8-4fa1-ab2a-4926f89157f6",
   "metadata": {},
   "outputs": [],
   "source": [
    "tools = [wikipedia_tool, \n",
    "         # duckduckgo_tool\n",
    "        ]\n",
    "llm_with_tools = llm.bind(functions=[format_tool_to_openai_function(t) for t in tools])"
   ]
  },
  {
   "cell_type": "code",
   "execution_count": 8,
   "id": "0b4d81e2-86aa-4aff-9f78-1656ae234ee6",
   "metadata": {},
   "outputs": [],
   "source": [
    "system_prompt = \"\"\"\n",
    "You are a helpful assistant and an expert in all things related to music and songs. \n",
    "Your output should only be the answer without additional explanation and in a JSON format \n",
    "Example:\n",
    "'Songwriter': 'John Johnson, Adam Smith', \n",
    "'Producers': 'Alex Boh, Betty, Germaine',\n",
    "'Label': 'Sony Music',\n",
    "'Genre': 'Disco, Pop',\n",
    "'Main Language': 'Korean'\n",
    "\"\"\""
   ]
  },
  {
   "cell_type": "code",
   "execution_count": 9,
   "id": "c0c85cfe-acf6-463f-a223-db97a8a3e326",
   "metadata": {},
   "outputs": [],
   "source": [
    "prompt = ChatPromptTemplate.from_messages(\n",
    "    [\n",
    "        (\"system\", system_prompt),\n",
    "        (\"user\", \"{input}\"),\n",
    "        MessagesPlaceholder(variable_name=\"agent_scratchpad\"),\n",
    "    ]\n",
    ")"
   ]
  },
  {
   "cell_type": "code",
   "execution_count": 10,
   "id": "c30f4e00-607f-4240-984f-395ef0b72343",
   "metadata": {},
   "outputs": [],
   "source": [
    "agent = (\n",
    "        {\n",
    "        \"input\": lambda x: x[\"input\"],\n",
    "        \"agent_scratchpad\": lambda x: format_to_openai_function_messages(\n",
    "                                    x[\"intermediate_steps\"]\n",
    "        ),\n",
    "        }\n",
    "        | prompt\n",
    "        | llm_with_tools\n",
    "        | OpenAIFunctionsAgentOutputParser()\n",
    "    )\n",
    "\n",
    "agent_executor = AgentExecutor(agent=agent, \n",
    "                               tools=tools, \n",
    "                               verbose=False)"
   ]
  },
  {
   "cell_type": "code",
   "execution_count": 11,
   "id": "bd76c05d-beeb-4c9a-bfef-5fe4aa783c08",
   "metadata": {},
   "outputs": [],
   "source": [
    "def generate_input_prompt(song_title, performer):\n",
    "    input_prompt = f\"\"\"\n",
    "    You are a helpful assistant and an expert in all things related to music and songs\n",
    "    \n",
    "    This is the song to review: \n",
    "    - Song title: {song_title}\n",
    "    - Performing Artiste: {performer}\n",
    "    \n",
    "    Based on the above song, answer the following questions: \n",
    "    - Who are the songwriters of the song?\n",
    "    - Who are the producers of the song?\n",
    "    - What is the name of the record company (aka label)?\n",
    "    - What is the genre of the song?         \n",
    "    - What is the main language of the song?\n",
    "    \"\"\"\n",
    "\n",
    "    return input_prompt"
   ]
  },
  {
   "cell_type": "code",
   "execution_count": 13,
   "id": "e91e439e-6802-48fe-bbb3-a8b39f5aeeed",
   "metadata": {},
   "outputs": [
    {
     "name": "stdout",
     "output_type": "stream",
     "text": [
      "***** Processing Perfect by Ed Sheeran *****\n",
      "{\n",
      "  \"Songwriters\": \"Ed Sheeran\",\n",
      "  \"Producers\": \"Ed Sheeran, Will Hicks\",\n",
      "  \"Label\": \"Asylum, Atlantic Records\",\n",
      "  \"Genre\": \"Pop, Ballad\",\n",
      "  \"Main Language\": \"English\"\n",
      "}\n",
      "***** Processing Uptown Funk by Mark Ronson & Bruno Mars *****\n",
      "\n",
      "{\n",
      "  \"Songwriters\": \"Mark Ronson, Bruno Mars, Jeff Bhasker, Philip Lawrence\",\n",
      "  \"Producers\": \"Mark Ronson, Bruno Mars, Jeff Bhasker\",\n",
      "  \"Label\": \"RCA Records\",\n",
      "  \"Genre\": \"Funk-Pop, Soul, Boogie, Disco-Pop, Minneapolis Sound\",\n",
      "  \"Main Language\": \"English\"\n",
      "}\n",
      "***** Processing Happy by Pharrell Williams *****\n"
     ]
    },
    {
     "name": "stderr",
     "output_type": "stream",
     "text": [
      "\n",
      "KeyboardInterrupt\n",
      "\n"
     ]
    }
   ],
   "source": [
    "output_file = 'data/output/songs_metadata.csv'\n",
    "\n",
    "for _, row in df.iterrows():\n",
    "    song = row['song']\n",
    "    artist = row['artist']\n",
    "    if os.path.exists(output_file):\n",
    "        df_song_info = pd.read_csv(output_file, encoding='utf-8')\n",
    "    else:\n",
    "        df_song_info = pd.DataFrame(columns=['song', 'artist', 'output', 'cost'])\n",
    "        df_song_info.to_csv(output_file, index=False)\n",
    "\n",
    "    existing_ids = df_song_info['song'].unique().tolist()\n",
    "    if song not in existing_ids:\n",
    "        print(f'***** Processing {song} by {artist} *****')\n",
    "        input_prompt = generate_input_prompt(song, artist)\n",
    "        with get_openai_callback() as cb:\n",
    "            response = agent_executor.invoke(\n",
    "                                {\"input\": input_prompt})\n",
    "            output = response['output']\n",
    "            print(output)\n",
    "            cost = cb.total_cost\n",
    "    \n",
    "            new_row_data = {\n",
    "                'song': song,\n",
    "                'artist': artist,\n",
    "                'output': output,  \n",
    "                'cost': cost,\n",
    "            }\n",
    "            \n",
    "            with open(output_file, 'a', newline='', encoding='utf-8') as file:\n",
    "                writer = csv.writer(file)\n",
    "                writer.writerow(new_row_data.values())"
   ]
  },
  {
   "cell_type": "code",
   "execution_count": null,
   "id": "c3abe3fe-6a73-4e3d-aaf3-c375cb61b5c4",
   "metadata": {},
   "outputs": [],
   "source": []
  }
 ],
 "metadata": {
  "kernelspec": {
   "display_name": "wikipedia_scraping_venv",
   "language": "python",
   "name": "venv"
  },
  "language_info": {
   "codemirror_mode": {
    "name": "ipython",
    "version": 3
   },
   "file_extension": ".py",
   "mimetype": "text/x-python",
   "name": "python",
   "nbconvert_exporter": "python",
   "pygments_lexer": "ipython3",
   "version": "3.11.5"
  }
 },
 "nbformat": 4,
 "nbformat_minor": 5
}
